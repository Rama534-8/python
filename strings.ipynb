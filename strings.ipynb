{
  "nbformat": 4,
  "nbformat_minor": 0,
  "metadata": {
    "colab": {
      "provenance": [],
      "authorship_tag": "ABX9TyMrtbyBGuS0XKflY8n5TLkg",
      "include_colab_link": true
    },
    "kernelspec": {
      "name": "python3",
      "display_name": "Python 3"
    },
    "language_info": {
      "name": "python"
    }
  },
  "cells": [
    {
      "cell_type": "markdown",
      "metadata": {
        "id": "view-in-github",
        "colab_type": "text"
      },
      "source": [
        "<a href=\"https://colab.research.google.com/github/Rama534-8/python/blob/main/strings.ipynb\" target=\"_parent\"><img src=\"https://colab.research.google.com/assets/colab-badge.svg\" alt=\"Open In Colab\"/></a>"
      ]
    },
    {
      "cell_type": "code",
      "execution_count": null,
      "metadata": {
        "colab": {
          "base_uri": "https://localhost:8080/"
        },
        "id": "o4pPYoyv3s4w",
        "outputId": "d26782be-63a7-407f-e2f9-7104bfeb758e"
      },
      "outputs": [
        {
          "output_type": "stream",
          "name": "stdout",
          "text": [
            "Rukmini and radha are friends\n"
          ]
        }
      ],
      "source": [
        "#capitalize\n",
        "\n",
        "A=\"rukmini and radha are friends\"\n",
        "s=A.capitalize()\n",
        "print(s)\n"
      ]
    },
    {
      "cell_type": "code",
      "source": [
        "#replace\n",
        "B=\"banana is the best to gain weight\"\n",
        "d=B.replace(\"banana\",\"kiwi\")\n",
        "print(d)\n"
      ],
      "metadata": {
        "colab": {
          "base_uri": "https://localhost:8080/"
        },
        "id": "i_0iETkZ5EZe",
        "outputId": "fedaad54-b996-455e-ca3d-1e55a4dcd186"
      },
      "execution_count": null,
      "outputs": [
        {
          "output_type": "stream",
          "name": "stdout",
          "text": [
            "kiwi is the best to gain weight\n"
          ]
        }
      ]
    },
    {
      "cell_type": "code",
      "source": [
        "#title\n",
        "D=\"Ayurveda is the best medicine\"\n",
        "f=D.title()\n",
        "print(f)\n"
      ],
      "metadata": {
        "colab": {
          "base_uri": "https://localhost:8080/"
        },
        "id": "WDcjMFTF5IZL",
        "outputId": "d0c7d7e2-ded0-4c0c-e318-97d57673cac9"
      },
      "execution_count": null,
      "outputs": [
        {
          "output_type": "stream",
          "name": "stdout",
          "text": [
            "Ayurveda Is The Best Medicine\n"
          ]
        }
      ]
    },
    {
      "cell_type": "code",
      "source": [
        "#upper\n",
        "F=\"start the class\"\n",
        "c=F.upper()\n",
        "print(c)\n",
        "\n"
      ],
      "metadata": {
        "colab": {
          "base_uri": "https://localhost:8080/"
        },
        "id": "ZVlMDWw65RWx",
        "outputId": "d3954a36-5f33-43d0-fb68-44f67ed80a66"
      },
      "execution_count": null,
      "outputs": [
        {
          "output_type": "stream",
          "name": "stdout",
          "text": [
            "START THE CLASS\n"
          ]
        }
      ]
    },
    {
      "cell_type": "code",
      "source": [
        "#lower\n",
        "G=\"SEE The Sky\"\n",
        "g=G.lower()\n",
        "print(g)\n"
      ],
      "metadata": {
        "colab": {
          "base_uri": "https://localhost:8080/"
        },
        "id": "JQaBN6me51lm",
        "outputId": "72d59c22-59fa-4492-ea86-fcb8a6765ce3"
      },
      "execution_count": null,
      "outputs": [
        {
          "output_type": "stream",
          "name": "stdout",
          "text": [
            "see the sky\n"
          ]
        }
      ]
    },
    {
      "cell_type": "code",
      "source": [
        "#isdigit\n",
        "W=\"1223557\"\n",
        "W.isdigit()"
      ],
      "metadata": {
        "colab": {
          "base_uri": "https://localhost:8080/"
        },
        "id": "5aOuaPAh6ZCU",
        "outputId": "547b81a7-91f8-4433-b6c6-c33e36b0170a"
      },
      "execution_count": null,
      "outputs": [
        {
          "output_type": "execute_result",
          "data": {
            "text/plain": [
              "True"
            ]
          },
          "metadata": {},
          "execution_count": 11
        }
      ]
    },
    {
      "cell_type": "code",
      "source": [
        "#islower\n",
        "H=\"see that nature\"\n",
        "H.islower()"
      ],
      "metadata": {
        "colab": {
          "base_uri": "https://localhost:8080/"
        },
        "id": "AxWY125M6wPW",
        "outputId": "b392fffa-c48e-46a0-c68f-062cc6b9f8e6"
      },
      "execution_count": null,
      "outputs": [
        {
          "output_type": "execute_result",
          "data": {
            "text/plain": [
              "True"
            ]
          },
          "metadata": {},
          "execution_count": 12
        }
      ]
    },
    {
      "cell_type": "code",
      "source": [
        "#isupper\n",
        "A=\"ALL THE BEST\"\n",
        "A.isupper()"
      ],
      "metadata": {
        "colab": {
          "base_uri": "https://localhost:8080/"
        },
        "id": "RzhthonH8AQB",
        "outputId": "fdbd5e88-8c40-4040-a488-2d9a95d89ceb"
      },
      "execution_count": null,
      "outputs": [
        {
          "output_type": "execute_result",
          "data": {
            "text/plain": [
              "True"
            ]
          },
          "metadata": {},
          "execution_count": 13
        }
      ]
    },
    {
      "cell_type": "code",
      "source": [
        "#isalnum\n",
        "S=\"akka cid\"\n",
        "S.isalnum()"
      ],
      "metadata": {
        "colab": {
          "base_uri": "https://localhost:8080/"
        },
        "id": "Y75p5D7A8CHs",
        "outputId": "92d0158f-2085-483e-e335-63b9778324ce"
      },
      "execution_count": null,
      "outputs": [
        {
          "output_type": "execute_result",
          "data": {
            "text/plain": [
              "False"
            ]
          },
          "metadata": {},
          "execution_count": 14
        }
      ]
    },
    {
      "cell_type": "code",
      "source": [
        "#isalpha\n",
        "F=\"clerkgood\"\n",
        "F.isalpha()"
      ],
      "metadata": {
        "colab": {
          "base_uri": "https://localhost:8080/"
        },
        "id": "RKOVPb2_8Tq_",
        "outputId": "3b91f2d1-22d2-480c-db1f-c14a2ea828f2"
      },
      "execution_count": null,
      "outputs": [
        {
          "output_type": "execute_result",
          "data": {
            "text/plain": [
              "True"
            ]
          },
          "metadata": {},
          "execution_count": 15
        }
      ]
    },
    {
      "cell_type": "code",
      "source": [
        "#count\n",
        "A=\"banana is fav to banana ,like banana\"\n",
        "A.count(\"banana\")"
      ],
      "metadata": {
        "colab": {
          "base_uri": "https://localhost:8080/"
        },
        "id": "tDSP5nb78YPv",
        "outputId": "890b4ce1-e1ed-416e-9d80-7867283abf23"
      },
      "execution_count": null,
      "outputs": [
        {
          "output_type": "execute_result",
          "data": {
            "text/plain": [
              "3"
            ]
          },
          "metadata": {},
          "execution_count": 16
        }
      ]
    },
    {
      "cell_type": "code",
      "source": [
        "#index\n",
        "D=\"she is a programmer\"\n",
        "D.index(\"a\")"
      ],
      "metadata": {
        "colab": {
          "base_uri": "https://localhost:8080/"
        },
        "id": "1350oy6N8st3",
        "outputId": "895dd6f1-5ae4-41de-dfbd-fd21c52623fe"
      },
      "execution_count": null,
      "outputs": [
        {
          "output_type": "execute_result",
          "data": {
            "text/plain": [
              "7"
            ]
          },
          "metadata": {},
          "execution_count": 17
        }
      ]
    },
    {
      "cell_type": "code",
      "source": [
        "#find\n",
        "H=\"akka did a good job\"\n",
        "H.find(\"did\")"
      ],
      "metadata": {
        "colab": {
          "base_uri": "https://localhost:8080/"
        },
        "id": "QXyOQis88_Qq",
        "outputId": "33a004f0-0146-41b6-a876-fa84bae35dd3"
      },
      "execution_count": null,
      "outputs": [
        {
          "output_type": "execute_result",
          "data": {
            "text/plain": [
              "5"
            ]
          },
          "metadata": {},
          "execution_count": 18
        }
      ]
    },
    {
      "cell_type": "code",
      "source": [
        "#startswith\n",
        "D=\"WIF cloud vlc\"\n",
        "D.startswith(\"W\")"
      ],
      "metadata": {
        "colab": {
          "base_uri": "https://localhost:8080/"
        },
        "id": "2hwgobMm9Qq1",
        "outputId": "a0b37a52-aa44-4ff0-c5a5-89e4440e8599"
      },
      "execution_count": null,
      "outputs": [
        {
          "output_type": "execute_result",
          "data": {
            "text/plain": [
              "True"
            ]
          },
          "metadata": {},
          "execution_count": 19
        }
      ]
    },
    {
      "cell_type": "code",
      "source": [
        "#endswith\n",
        "F=\"cloud WIF dnd akka!\"\n",
        "F.endswith(\".\")"
      ],
      "metadata": {
        "id": "Y_B-iEXn9dfn",
        "outputId": "e9e4b435-11d2-4b3a-b9a0-a21bf9c5c9f4",
        "colab": {
          "base_uri": "https://localhost:8080/"
        }
      },
      "execution_count": null,
      "outputs": [
        {
          "output_type": "execute_result",
          "data": {
            "text/plain": [
              "False"
            ]
          },
          "metadata": {},
          "execution_count": 20
        }
      ]
    }
  ]
}