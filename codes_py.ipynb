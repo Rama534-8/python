{
  "nbformat": 4,
  "nbformat_minor": 0,
  "metadata": {
    "colab": {
      "provenance": [],
      "authorship_tag": "ABX9TyOOOu6Zko93vryLhqpn2CI0",
      "include_colab_link": true
    },
    "kernelspec": {
      "name": "python3",
      "display_name": "Python 3"
    },
    "language_info": {
      "name": "python"
    }
  },
  "cells": [
    {
      "cell_type": "markdown",
      "metadata": {
        "id": "view-in-github",
        "colab_type": "text"
      },
      "source": [
        "<a href=\"https://colab.research.google.com/github/Rama534-8/python/blob/main/codes_py.ipynb\" target=\"_parent\"><img src=\"https://colab.research.google.com/assets/colab-badge.svg\" alt=\"Open In Colab\"/></a>"
      ]
    },
    {
      "cell_type": "code",
      "execution_count": null,
      "metadata": {
        "colab": {
          "base_uri": "https://localhost:8080/"
        },
        "id": "7jAoEs5JUOlL",
        "outputId": "d91acf75-ff70-46aa-b347-5b2c897f0adf"
      },
      "outputs": [
        {
          "output_type": "stream",
          "name": "stdout",
          "text": [
            "4321\n"
          ]
        }
      ],
      "source": [
        "num = 1234\n",
        "reverse_num = 0\n",
        "\n",
        "while num > 0:\n",
        "    digit = num % 10\n",
        "    reverse_num = reverse_num * 10 + digit\n",
        "    num = num // 10\n",
        "\n",
        "print(reverse_num)"
      ]
    },
    {
      "cell_type": "code",
      "source": [
        "# odd multiplier\n",
        "a = int(input(\"Enter a number: \"))\n",
        "\n",
        "print(f\"Odd numbers in {a} table up to 10:\")\n",
        "for i in range(1, 11):\n",
        "    if i % 2 != 0:\n",
        "        print(f\"{a} * {i} = {a*i}\")"
      ],
      "metadata": {
        "colab": {
          "base_uri": "https://localhost:8080/"
        },
        "id": "CYswCxliUQXv",
        "outputId": "23af39f3-4296-4f07-a912-d656a0e3d7b9"
      },
      "execution_count": null,
      "outputs": [
        {
          "output_type": "stream",
          "name": "stdout",
          "text": [
            "Enter a number: 3\n",
            "Odd numbers in 3 table up to 10:\n",
            "3 * 1 = 3\n",
            "3 * 3 = 9\n",
            "3 * 5 = 15\n",
            "3 * 7 = 21\n",
            "3 * 9 = 27\n"
          ]
        }
      ]
    },
    {
      "cell_type": "code",
      "source": [
        "# even multiplier\n",
        "a = int(input(\"Enter a number: \"))\n",
        "\n",
        "print(f\"Even numbers in {a} table up to 10:\")\n",
        "for i in range(1, 11):\n",
        "    if i % 2 == 0:\n",
        "        print(f\"{a} * {i} = {a*i}\")"
      ],
      "metadata": {
        "colab": {
          "base_uri": "https://localhost:8080/"
        },
        "id": "tbv_96flUdQ1",
        "outputId": "768b5918-ffa7-4309-ec77-7db1867861cf"
      },
      "execution_count": null,
      "outputs": [
        {
          "output_type": "stream",
          "name": "stdout",
          "text": [
            "Enter a number: 6\n",
            "Even numbers in 6 table up to 10:\n",
            "6 * 2 = 12\n",
            "6 * 4 = 24\n",
            "6 * 6 = 36\n",
            "6 * 8 = 48\n",
            "6 * 10 = 60\n"
          ]
        }
      ]
    },
    {
      "cell_type": "code",
      "source": [
        "n = 5  # size of the square\n",
        "\n",
        "for i in range(n):\n",
        "    for j in range(n):\n",
        "        # Print '*' for first row, last row, first column, or last column\n",
        "        if i == 0 or i == n-1 or j == 0 or j == n-1:\n",
        "            print(\"*\", end=\" \")\n",
        "        else:\n",
        "            print(\" \", end=\" \")\n",
        "    print()  # move to next row"
      ],
      "metadata": {
        "colab": {
          "base_uri": "https://localhost:8080/"
        },
        "id": "UT0a7RCJVMR8",
        "outputId": "aa7f2541-ce4b-48d3-bb38-c3d7f8c8f85a"
      },
      "execution_count": null,
      "outputs": [
        {
          "output_type": "stream",
          "name": "stdout",
          "text": [
            "* * * * * \n",
            "*       * \n",
            "*       * \n",
            "*       * \n",
            "* * * * * \n"
          ]
        }
      ]
    },
    {
      "cell_type": "code",
      "source": [
        "a = int(input(\"Enter a number: \"))\n",
        "\n",
        "print(f\"Prime numbers in {a} table up to 10:\")\n",
        "for i in range(1, 11):\n",
        "    # Check if i is prime\n",
        "    if i > 1:\n",
        "        is_prime = True\n",
        "        for j in range(2, int(i**0.5) + 1):\n",
        "            if i % j == 0:\n",
        "                is_prime = False\n",
        "                break\n",
        "        if is_prime:\n",
        "            print(i, \"is prime →\", f\"{a} * {i} = {a*i}\")"
      ],
      "metadata": {
        "colab": {
          "base_uri": "https://localhost:8080/"
        },
        "id": "62-ErwrCVCtO",
        "outputId": "e4fbf355-005f-4ee7-9755-5e8d3f0277f4"
      },
      "execution_count": null,
      "outputs": [
        {
          "output_type": "stream",
          "name": "stdout",
          "text": [
            "Enter a number: 7\n",
            "Prime numbers in 7 table up to 10:\n",
            "2 is prime → 7 * 2 = 14\n",
            "3 is prime → 7 * 3 = 21\n",
            "5 is prime → 7 * 5 = 35\n",
            "7 is prime → 7 * 7 = 49\n"
          ]
        }
      ]
    }
  ]
}