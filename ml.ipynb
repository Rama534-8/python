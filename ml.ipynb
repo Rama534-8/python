{
  "nbformat": 4,
  "nbformat_minor": 0,
  "metadata": {
    "colab": {
      "provenance": [],
      "authorship_tag": "ABX9TyORXkltsaCIjq8HFyNHY+kr",
      "include_colab_link": true
    },
    "kernelspec": {
      "name": "python3",
      "display_name": "Python 3"
    },
    "language_info": {
      "name": "python"
    }
  },
  "cells": [
    {
      "cell_type": "markdown",
      "metadata": {
        "id": "view-in-github",
        "colab_type": "text"
      },
      "source": [
        "<a href=\"https://colab.research.google.com/github/Rama534-8/python/blob/main/ml.ipynb\" target=\"_parent\"><img src=\"https://colab.research.google.com/assets/colab-badge.svg\" alt=\"Open In Colab\"/></a>"
      ]
    },
    {
      "cell_type": "code",
      "execution_count": null,
      "metadata": {
        "colab": {
          "base_uri": "https://localhost:8080/"
        },
        "id": "OwPn9BKoS5cO",
        "outputId": "6d74f61d-1395-455a-ce77-bf2cd893560c"
      },
      "outputs": [
        {
          "output_type": "stream",
          "name": "stdout",
          "text": [
            "       Name  Age      City\n",
            "0      sasi   21     india\n",
            "1    tulasi   18   america\n",
            "2   nandini   23    mexico\n",
            "3  nagamani   38       usa\n",
            "4    sandya   30  new york\n",
            "5      puja   19      iran\n"
          ]
        }
      ],
      "source": [
        "import pandas as pd\n",
        "data={\n",
        "    \"Name\":[\"sasi\",\"tulasi\",\"nandini\",\"nagamani\",\"sandya\",\"puja\"],\n",
        "    \"Age\":[21,18,23,38,30,19],\n",
        "    \"City\":[\"india\",\"america\",\"mexico\",\"usa\",\"new york\",\"iran\"]\n",
        "}\n",
        "df=pd.DataFrame(data)\n",
        "print(df)\n"
      ]
    },
    {
      "cell_type": "code",
      "source": [
        "import pandas as pd\n",
        "data={\n",
        "    \"Name\":[\"sasi\",\"tulasi\",\"nandini\",\"nagamani\",\"sandya\",\"puja\"],\n",
        "    \"Age\":[21,18,23,38,30,19],\n",
        "    \"City\":[\"india\",\"america\",\"mexico\",\"usa\",\"new york\",\"iran\"]\n",
        "}\n",
        "df=pd.DataFrame(data)\n",
        "print(df.head())"
      ],
      "metadata": {
        "id": "qkiJWZfLVEpm",
        "colab": {
          "base_uri": "https://localhost:8080/"
        },
        "outputId": "7b6b2c60-8f17-4fdb-d3f0-91f4402dcc29"
      },
      "execution_count": null,
      "outputs": [
        {
          "output_type": "stream",
          "name": "stdout",
          "text": [
            "       Name  Age      City\n",
            "0      sasi   21     india\n",
            "1    tulasi   18   america\n",
            "2   nandini   23    mexico\n",
            "3  nagamani   38       usa\n",
            "4    sandya   30  new york\n"
          ]
        }
      ]
    },
    {
      "cell_type": "code",
      "source": [
        "print(df.tail())"
      ],
      "metadata": {
        "colab": {
          "base_uri": "https://localhost:8080/"
        },
        "id": "S636QjZJlscU",
        "outputId": "b0c68c8c-07d5-4b1e-e1f0-c731ef6f7406"
      },
      "execution_count": null,
      "outputs": [
        {
          "output_type": "stream",
          "name": "stdout",
          "text": [
            "       Name  Age      City\n",
            "1    tulasi   18   america\n",
            "2   nandini   23    mexico\n",
            "3  nagamani   38       usa\n",
            "4    sandya   30  new york\n",
            "5      puja   19      iran\n"
          ]
        }
      ]
    },
    {
      "cell_type": "code",
      "source": [
        "print(df[\"Name\"])"
      ],
      "metadata": {
        "colab": {
          "base_uri": "https://localhost:8080/"
        },
        "id": "yhSVAaEOl5y8",
        "outputId": "9c10fba3-9c05-45d6-97ed-17c1c3c3edcf"
      },
      "execution_count": null,
      "outputs": [
        {
          "output_type": "stream",
          "name": "stdout",
          "text": [
            "0        sasi\n",
            "1      tulasi\n",
            "2     nandini\n",
            "3    nagamani\n",
            "4      sandya\n",
            "5        puja\n",
            "Name: Name, dtype: object\n"
          ]
        }
      ]
    },
    {
      "cell_type": "code",
      "source": [
        "print(df.shape)"
      ],
      "metadata": {
        "colab": {
          "base_uri": "https://localhost:8080/"
        },
        "id": "RzCL5OIVmJD7",
        "outputId": "dbfecf7b-86db-40ba-ba23-2cef26181a97"
      },
      "execution_count": null,
      "outputs": [
        {
          "output_type": "stream",
          "name": "stdout",
          "text": [
            "(6, 3)\n"
          ]
        }
      ]
    },
    {
      "cell_type": "code",
      "source": [
        "print(df.describe())"
      ],
      "metadata": {
        "colab": {
          "base_uri": "https://localhost:8080/"
        },
        "id": "oXOuf8VSmYoK",
        "outputId": "1cc7a034-a26f-4b5e-ed58-48151654f97d"
      },
      "execution_count": null,
      "outputs": [
        {
          "output_type": "stream",
          "name": "stdout",
          "text": [
            "             Age\n",
            "count   6.000000\n",
            "mean   24.833333\n",
            "std     7.730890\n",
            "min    18.000000\n",
            "25%    19.500000\n",
            "50%    22.000000\n",
            "75%    28.250000\n",
            "max    38.000000\n"
          ]
        }
      ]
    },
    {
      "cell_type": "code",
      "source": [
        "print(df[df[\"Age\"]>20])"
      ],
      "metadata": {
        "colab": {
          "base_uri": "https://localhost:8080/"
        },
        "id": "w9Nqp7p-mYtj",
        "outputId": "6e75695a-b9b8-47ec-a32f-eedc93f8144c"
      },
      "execution_count": null,
      "outputs": [
        {
          "output_type": "stream",
          "name": "stdout",
          "text": [
            "       Name  Age      City\n",
            "0      sasi   21     india\n",
            "2   nandini   23    mexico\n",
            "3  nagamani   38       usa\n",
            "4    sandya   30  new york\n"
          ]
        }
      ]
    },
    {
      "cell_type": "code",
      "source": [
        "print(df.columns)"
      ],
      "metadata": {
        "colab": {
          "base_uri": "https://localhost:8080/"
        },
        "id": "lA3sfgTtmpId",
        "outputId": "90084f2a-811d-453b-c865-df29026926f1"
      },
      "execution_count": null,
      "outputs": [
        {
          "output_type": "stream",
          "name": "stdout",
          "text": [
            "Index(['Name', 'Age', 'City'], dtype='object')\n"
          ]
        }
      ]
    },
    {
      "cell_type": "code",
      "source": [
        "print(df.index)"
      ],
      "metadata": {
        "colab": {
          "base_uri": "https://localhost:8080/"
        },
        "id": "cikNc0VumpP_",
        "outputId": "d3da34bf-f844-4ecc-9337-7aaf52a7d3ca"
      },
      "execution_count": null,
      "outputs": [
        {
          "output_type": "stream",
          "name": "stdout",
          "text": [
            "RangeIndex(start=0, stop=6, step=1)\n"
          ]
        }
      ]
    },
    {
      "cell_type": "code",
      "source": [
        "print(df.loc[0])"
      ],
      "metadata": {
        "colab": {
          "base_uri": "https://localhost:8080/"
        },
        "id": "eWQkev52mpTY",
        "outputId": "44eb1c41-27a5-4d33-cd5c-5cfb8b2a0d98"
      },
      "execution_count": null,
      "outputs": [
        {
          "output_type": "stream",
          "name": "stdout",
          "text": [
            "Name     sasi\n",
            "Age        21\n",
            "City    india\n",
            "Name: 0, dtype: object\n"
          ]
        }
      ]
    },
    {
      "cell_type": "code",
      "source": [
        "print(df.loc[0:4])"
      ],
      "metadata": {
        "colab": {
          "base_uri": "https://localhost:8080/"
        },
        "id": "lyz0SQprnltm",
        "outputId": "c446a53b-8010-4cc5-b7eb-c8018ffc1e04"
      },
      "execution_count": null,
      "outputs": [
        {
          "output_type": "stream",
          "name": "stdout",
          "text": [
            "       Name  Age      City\n",
            "0      sasi   21     india\n",
            "1    tulasi   18   america\n",
            "2   nandini   23    mexico\n",
            "3  nagamani   38       usa\n",
            "4    sandya   30  new york\n"
          ]
        }
      ]
    },
    {
      "cell_type": "code",
      "source": [
        "print(df.isnull)"
      ],
      "metadata": {
        "colab": {
          "base_uri": "https://localhost:8080/"
        },
        "id": "MPdXFvUpnmjH",
        "outputId": "75f29f0c-ce99-47c2-bc83-8b1732e7584d"
      },
      "execution_count": null,
      "outputs": [
        {
          "output_type": "stream",
          "name": "stdout",
          "text": [
            "<bound method DataFrame.isnull of        Name  Age      City\n",
            "0      sasi   21     india\n",
            "1    tulasi   18   america\n",
            "2   nandini   23    mexico\n",
            "3  nagamani   38       usa\n",
            "4    sandya   30  new york\n",
            "5      puja   19      iran>\n"
          ]
        }
      ]
    },
    {
      "cell_type": "code",
      "source": [
        "print(df.duplicated)"
      ],
      "metadata": {
        "colab": {
          "base_uri": "https://localhost:8080/"
        },
        "id": "H5mU3y1FnyZO",
        "outputId": "c4073682-db5b-4786-ba04-56a6d596c7dd"
      },
      "execution_count": null,
      "outputs": [
        {
          "output_type": "stream",
          "name": "stdout",
          "text": [
            "<bound method DataFrame.duplicated of        Name  Age      City\n",
            "0      sasi   21     india\n",
            "1    tulasi   18   america\n",
            "2   nandini   23    mexico\n",
            "3  nagamani   38       usa\n",
            "4    sandya   30  new york\n",
            "5      puja   19      iran>\n"
          ]
        }
      ]
    },
    {
      "cell_type": "code",
      "source": [
        "print(df.fillna(0))"
      ],
      "metadata": {
        "colab": {
          "base_uri": "https://localhost:8080/"
        },
        "id": "FvUAnd-kn_ch",
        "outputId": "566292c5-5056-46b3-e846-e01873dfc01b"
      },
      "execution_count": null,
      "outputs": [
        {
          "output_type": "stream",
          "name": "stdout",
          "text": [
            "       Name  Age      City\n",
            "0      sasi   21     india\n",
            "1    tulasi   18   america\n",
            "2   nandini   23    mexico\n",
            "3  nagamani   38       usa\n",
            "4    sandya   30  new york\n",
            "5      puja   19      iran\n"
          ]
        }
      ]
    }
  ]
}