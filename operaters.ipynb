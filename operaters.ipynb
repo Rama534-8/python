{
  "nbformat": 4,
  "nbformat_minor": 0,
  "metadata": {
    "colab": {
      "provenance": [],
      "authorship_tag": "ABX9TyM81eC6iZTWUGOOrW9PqLw6",
      "include_colab_link": true
    },
    "kernelspec": {
      "name": "python3",
      "display_name": "Python 3"
    },
    "language_info": {
      "name": "python"
    }
  },
  "cells": [
    {
      "cell_type": "markdown",
      "metadata": {
        "id": "view-in-github",
        "colab_type": "text"
      },
      "source": [
        "<a href=\"https://colab.research.google.com/github/Rama534-8/python/blob/main/operaters.ipynb\" target=\"_parent\"><img src=\"https://colab.research.google.com/assets/colab-badge.svg\" alt=\"Open In Colab\"/></a>"
      ]
    },
    {
      "cell_type": "code",
      "execution_count": 8,
      "metadata": {
        "colab": {
          "base_uri": "https://localhost:8080/"
        },
        "id": "o3cZixAbURGx",
        "outputId": "b4d83d29-da90-4ff5-a758-da2f9ff9f5c1"
      },
      "outputs": [
        {
          "output_type": "stream",
          "name": "stdout",
          "text": [
            "7\n"
          ]
        }
      ],
      "source": [
        "#logical operaters\n",
        "a=5\n",
        "b=6\n",
        "c=7\n",
        "if a>b and a>c:\n",
        "  print(a)\n",
        "elif b>c and b>a:\n",
        "  print(b)\n",
        "else:\n",
        "  print(c)\n"
      ]
    },
    {
      "cell_type": "code",
      "source": [
        "a=5\n",
        "b=6\n",
        "c=7\n",
        "if a>b or a>c:\n",
        "  print(a)\n",
        "elif b>c or b>a:\n",
        "  print(b)\n",
        "else:\n",
        "  print(c)"
      ],
      "metadata": {
        "colab": {
          "base_uri": "https://localhost:8080/"
        },
        "id": "VUqXojqnV4Ae",
        "outputId": "0bf88f3d-f81f-40c1-ed9d-a91c41f34bed"
      },
      "execution_count": 13,
      "outputs": [
        {
          "output_type": "stream",
          "name": "stdout",
          "text": [
            "6\n"
          ]
        }
      ]
    },
    {
      "cell_type": "code",
      "source": [
        "#membership\n",
        "a=[1,2,3,4]\n",
        "if 2 in a:\n",
        "  print(True)\n",
        "else:\n",
        "  print(Flase)"
      ],
      "metadata": {
        "colab": {
          "base_uri": "https://localhost:8080/"
        },
        "id": "5LFAY-IEYXG_",
        "outputId": "8b4241bd-7573-459a-be3b-609c598b1c4b"
      },
      "execution_count": 14,
      "outputs": [
        {
          "output_type": "stream",
          "name": "stdout",
          "text": [
            "True\n"
          ]
        }
      ]
    },
    {
      "cell_type": "code",
      "source": [
        "#identify\n",
        "a=6\n",
        "b=6\n",
        "if a is b:\n",
        "  print(True)\n",
        "else:\n",
        "  print(Flase)"
      ],
      "metadata": {
        "colab": {
          "base_uri": "https://localhost:8080/"
        },
        "id": "imqfDkxfZ8KF",
        "outputId": "ff9674aa-2d82-4a8d-96a0-0f1e7ea53f0c"
      },
      "execution_count": 15,
      "outputs": [
        {
          "output_type": "stream",
          "name": "stdout",
          "text": [
            "True\n"
          ]
        }
      ]
    },
    {
      "cell_type": "code",
      "source": [
        "\n",
        "#Arthmetic operaters\n",
        "a=5\n",
        "b=6\n",
        "print(a+b)\n",
        "print(a-b)\n",
        "print(a*b)\n",
        "print(a/b)\n",
        "print(a%b)\n",
        "print(a**b)\n",
        "print(a!=b)\n",
        "print(a<b)"
      ],
      "metadata": {
        "colab": {
          "base_uri": "https://localhost:8080/"
        },
        "id": "ys9hQl0AaS9d",
        "outputId": "3c20370c-309b-44a8-9b44-08f4a1c73c99"
      },
      "execution_count": 19,
      "outputs": [
        {
          "output_type": "stream",
          "name": "stdout",
          "text": [
            "11\n",
            "-1\n",
            "30\n",
            "0.8333333333333334\n",
            "5\n",
            "15625\n",
            "True\n",
            "True\n"
          ]
        }
      ]
    },
    {
      "cell_type": "code",
      "source": [
        "#comparision operators\n",
        "a=5\n",
        "b=6\n",
        "print(a==b)\n",
        "print(a!=b)\n",
        "print(a<b)\n",
        "print(a>b)\n",
        "print(a<=b)\n",
        "print(a>=b)\n"
      ],
      "metadata": {
        "colab": {
          "base_uri": "https://localhost:8080/"
        },
        "id": "V9XcoofrcTYV",
        "outputId": "a26284c2-4ed9-44d5-8095-6880b9c490ce"
      },
      "execution_count": 20,
      "outputs": [
        {
          "output_type": "stream",
          "name": "stdout",
          "text": [
            "False\n",
            "True\n",
            "True\n",
            "False\n",
            "True\n",
            "False\n"
          ]
        }
      ]
    },
    {
      "cell_type": "code",
      "source": [
        "#Bitwise operators\n",
        "a=10\n",
        "b=4\n",
        "result_and=a&b\n",
        "print(result_and)\n",
        "result_or=a/b\n",
        "print(result_or)\n",
        "result_xor=a^b\n",
        "print(result_xor)\n",
        "\n"
      ],
      "metadata": {
        "colab": {
          "base_uri": "https://localhost:8080/"
        },
        "id": "PwQ2MDs-dQvG",
        "outputId": "93f4929f-3c64-42ea-b5be-79783288f989"
      },
      "execution_count": 22,
      "outputs": [
        {
          "output_type": "stream",
          "name": "stdout",
          "text": [
            "0\n",
            "2.5\n",
            "14\n"
          ]
        }
      ]
    },
    {
      "cell_type": "code",
      "source": [
        "#Bitwise operators\n",
        "a=10\n",
        "b=4\n",
        "result_and=a&b\n",
        "print(result_and)\n",
        "result_or=a/b\n",
        "print(result_or)\n",
        "result_xor=a^b\n",
        "print(result_xor)\n",
        "result_not=~a\n",
        "print(result_not)\n",
        "result_left_shift=a<<2\n",
        "print(result_left_shift)\n",
        "result_left_right=a>>2\n",
        "print(result_left_right)\n",
        "\n"
      ],
      "metadata": {
        "colab": {
          "base_uri": "https://localhost:8080/"
        },
        "id": "2hIGnHbAgQ2z",
        "outputId": "e2ee1514-37b0-45b0-f2e8-18d26f9c7a03"
      },
      "execution_count": 23,
      "outputs": [
        {
          "output_type": "stream",
          "name": "stdout",
          "text": [
            "0\n",
            "2.5\n",
            "14\n",
            "-11\n",
            "40\n",
            "2\n"
          ]
        }
      ]
    }
  ]
}