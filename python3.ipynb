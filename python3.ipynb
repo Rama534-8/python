{
  "nbformat": 4,
  "nbformat_minor": 0,
  "metadata": {
    "colab": {
      "provenance": [],
      "authorship_tag": "ABX9TyNE15vZtwNlIjtqdD/tF9Ee",
      "include_colab_link": true
    },
    "kernelspec": {
      "name": "python3",
      "display_name": "Python 3"
    },
    "language_info": {
      "name": "python"
    }
  },
  "cells": [
    {
      "cell_type": "markdown",
      "metadata": {
        "id": "view-in-github",
        "colab_type": "text"
      },
      "source": [
        "<a href=\"https://colab.research.google.com/github/Rama534-8/python/blob/main/python3.ipynb\" target=\"_parent\"><img src=\"https://colab.research.google.com/assets/colab-badge.svg\" alt=\"Open In Colab\"/></a>"
      ]
    },
    {
      "cell_type": "code",
      "execution_count": null,
      "metadata": {
        "colab": {
          "base_uri": "https://localhost:8080/"
        },
        "id": "fceowDk0Zut8",
        "outputId": "b84ba4eb-ba4d-4339-8edf-0bf77d92234c"
      },
      "outputs": [
        {
          "output_type": "stream",
          "name": "stdout",
          "text": [
            "enter a string:5\n",
            "5\n"
          ]
        }
      ],
      "source": [
        "#remove duplicate from a string\n",
        "v=input(\"enter a string:\")\n",
        "k=''.join(dict.fromkeys(v))\n",
        "print(k)"
      ]
    },
    {
      "cell_type": "code",
      "source": [
        "#sqaure pattren\n",
        "n=int(input())\n",
        "for i in range (1,n):\n",
        "  for j in range(1,n):\n",
        "    print(\"*\",end=\"\")\n",
        "  print()"
      ],
      "metadata": {
        "colab": {
          "base_uri": "https://localhost:8080/"
        },
        "id": "YDsZTCPRZ3JP",
        "outputId": "a051f6c9-3a06-4ff3-ebc7-e8722af674d3"
      },
      "execution_count": null,
      "outputs": [
        {
          "output_type": "stream",
          "name": "stdout",
          "text": [
            "5\n",
            "****\n",
            "****\n",
            "****\n",
            "****\n"
          ]
        }
      ]
    },
    {
      "cell_type": "code",
      "source": [
        "#count words in sentence\n",
        "v=input(\"enter sentence:\")\n",
        "count = 1\n",
        "for i in v:\n",
        "  if i == \" \":\n",
        "    count = count + 1\n",
        "print(count)"
      ],
      "metadata": {
        "colab": {
          "base_uri": "https://localhost:8080/"
        },
        "id": "gh2gGjfKaNpC",
        "outputId": "6922ace7-d92e-43af-f05d-8368d7acadd9"
      },
      "execution_count": null,
      "outputs": [
        {
          "output_type": "stream",
          "name": "stdout",
          "text": [
            "enter sentence:\n",
            "1\n"
          ]
        }
      ]
    },
    {
      "cell_type": "code",
      "source": [],
      "metadata": {
        "id": "3fEovxLEdSUx"
      },
      "execution_count": null,
      "outputs": []
    }
  ]
}