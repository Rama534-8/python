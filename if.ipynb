{
  "nbformat": 4,
  "nbformat_minor": 0,
  "metadata": {
    "colab": {
      "provenance": [],
      "authorship_tag": "ABX9TyMfyVp1i3wky1J2ngEIoWqi",
      "include_colab_link": true
    },
    "kernelspec": {
      "name": "python3",
      "display_name": "Python 3"
    },
    "language_info": {
      "name": "python"
    }
  },
  "cells": [
    {
      "cell_type": "markdown",
      "metadata": {
        "id": "view-in-github",
        "colab_type": "text"
      },
      "source": [
        "<a href=\"https://colab.research.google.com/github/Rama534-8/python/blob/main/if.ipynb\" target=\"_parent\"><img src=\"https://colab.research.google.com/assets/colab-badge.svg\" alt=\"Open In Colab\"/></a>"
      ]
    },
    {
      "cell_type": "code",
      "execution_count": null,
      "metadata": {
        "id": "ZrPwlA2roTIM"
      },
      "outputs": [],
      "source": []
    },
    {
      "cell_type": "code",
      "source": [
        "print(\"MAIN MENU\")\n",
        "print(\"*************\")\n",
        "print(\"1.HYDERABAD\")\n",
        "print(\"2.BANGLORE\")\n",
        "print(\"3.TIRUPATI\")\n",
        "print(\"4.CHENNAI\")\n",
        "dt=int(input(\"ENTER YOUR CHOICE:\"))\n",
        "print(\"\\n BUS TYPE MENU\")\n",
        "print(\"1.GARUDA\")\n",
        "print(\"2.VEENELA\")\n",
        "print(\"3. HI TECH\")\n",
        "print(\"4.LUXERY\")\n",
        "bt=nt(input(\"ENTER YOUR CHOICE\"))\n",
        "np=int(input(\"ENTER NO OF TICKETS\"))\n",
        "\n",
        "if(dt==1):\n",
        "   if(bt==1):\n",
        "      r=1500\n",
        "   elif(bt==2):\n",
        "      r=1000\n",
        "   elif(bt==3):\n",
        "      r=900\n",
        "   else:\n",
        "     r=500\n",
        "if(dt==1):\n",
        "   r=1300\n",
        "   elif(bt==2):\n",
        "     r"
      ],
      "metadata": {
        "colab": {
          "base_uri": "https://localhost:8080/",
          "height": 540
        },
        "id": "tR8Qe00eoT7y",
        "outputId": "6e8bfbf7-c06e-41f6-9de0-60e256376d26"
      },
      "execution_count": null,
      "outputs": [
        {
          "output_type": "stream",
          "name": "stdout",
          "text": [
            "MAIN MENU\n",
            "*************\n",
            "1.HYDERABAD\n",
            "2.BANGLORE\n",
            "3.TIRUPATI\n",
            "4.CHENNAI\n",
            "ENTER YOUR CHOICE:4\n",
            "\n",
            " BUS TYPE MENU\n",
            "1.GARUDA\n",
            "2.VEENELA\n",
            "3. HI TECH\n",
            "4.LUXERY\n"
          ]
        },
        {
          "output_type": "error",
          "ename": "NameError",
          "evalue": "name 'nt' is not defined",
          "traceback": [
            "\u001b[0;31m---------------------------------------------------------------------------\u001b[0m",
            "\u001b[0;31mNameError\u001b[0m                                 Traceback (most recent call last)",
            "\u001b[0;32m<ipython-input-3-8b568f52f7a9>\u001b[0m in \u001b[0;36m<cell line: 13>\u001b[0;34m()\u001b[0m\n\u001b[1;32m     11\u001b[0m \u001b[0mprint\u001b[0m\u001b[0;34m(\u001b[0m\u001b[0;34m\"3. HI TECH\"\u001b[0m\u001b[0;34m)\u001b[0m\u001b[0;34m\u001b[0m\u001b[0;34m\u001b[0m\u001b[0m\n\u001b[1;32m     12\u001b[0m \u001b[0mprint\u001b[0m\u001b[0;34m(\u001b[0m\u001b[0;34m\"4.LUXERY\"\u001b[0m\u001b[0;34m)\u001b[0m\u001b[0;34m\u001b[0m\u001b[0;34m\u001b[0m\u001b[0m\n\u001b[0;32m---> 13\u001b[0;31m \u001b[0mbt\u001b[0m\u001b[0;34m=\u001b[0m\u001b[0mnt\u001b[0m\u001b[0;34m(\u001b[0m\u001b[0minput\u001b[0m\u001b[0;34m(\u001b[0m\u001b[0;34m\"ENTER YOUR CHOICE\"\u001b[0m\u001b[0;34m)\u001b[0m\u001b[0;34m)\u001b[0m\u001b[0;34m\u001b[0m\u001b[0;34m\u001b[0m\u001b[0m\n\u001b[0m\u001b[1;32m     14\u001b[0m \u001b[0mnp\u001b[0m\u001b[0;34m=\u001b[0m\u001b[0mint\u001b[0m\u001b[0;34m(\u001b[0m\u001b[0minput\u001b[0m\u001b[0;34m(\u001b[0m\u001b[0;34m\"ENTER NO OF TICKETS\"\u001b[0m\u001b[0;34m)\u001b[0m\u001b[0;34m)\u001b[0m\u001b[0;34m\u001b[0m\u001b[0;34m\u001b[0m\u001b[0m\n\u001b[1;32m     15\u001b[0m \u001b[0;34m\u001b[0m\u001b[0m\n",
            "\u001b[0;31mNameError\u001b[0m: name 'nt' is not defined"
          ]
        }
      ]
    }
  ]
}