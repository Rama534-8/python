{
  "nbformat": 4,
  "nbformat_minor": 0,
  "metadata": {
    "colab": {
      "provenance": [],
      "authorship_tag": "ABX9TyMV892qMd/ApQLQByQ4Sb0/",
      "include_colab_link": true
    },
    "kernelspec": {
      "name": "python3",
      "display_name": "Python 3"
    },
    "language_info": {
      "name": "python"
    }
  },
  "cells": [
    {
      "cell_type": "markdown",
      "metadata": {
        "id": "view-in-github",
        "colab_type": "text"
      },
      "source": [
        "<a href=\"https://colab.research.google.com/github/Rama534-8/python/blob/main/python.ipynb\" target=\"_parent\"><img src=\"https://colab.research.google.com/assets/colab-badge.svg\" alt=\"Open In Colab\"/></a>"
      ]
    },
    {
      "cell_type": "code",
      "execution_count": 1,
      "metadata": {
        "colab": {
          "base_uri": "https://localhost:8080/"
        },
        "id": "WUZU4oKW2vFc",
        "outputId": "6ca520da-3ad6-4150-dbd2-1ad0cb3aa421"
      },
      "outputs": [
        {
          "output_type": "stream",
          "name": "stdout",
          "text": [
            "['apple', 'banana', 'orange', 'grapes', 'banana', 'lemon']\n"
          ]
        }
      ],
      "source": [
        "#list\n",
        "#append\n",
        "y=['apple','banana','orange','grapes','banana']\n",
        "y.append(\"lemon\")\n",
        "print(y)\n"
      ]
    },
    {
      "cell_type": "code",
      "source": [
        "#insert\n",
        "y=['apple','banana','orange','grapes','banana']\n",
        "y.insert(3,\"cherry\")\n",
        "print(y)\n"
      ],
      "metadata": {
        "colab": {
          "base_uri": "https://localhost:8080/"
        },
        "id": "1z6bHP5e25T9",
        "outputId": "35dc429e-a6ff-4506-a563-71e0d69f9288"
      },
      "execution_count": 2,
      "outputs": [
        {
          "output_type": "stream",
          "name": "stdout",
          "text": [
            "['apple', 'banana', 'orange', 'cherry', 'grapes', 'banana']\n"
          ]
        }
      ]
    },
    {
      "cell_type": "code",
      "source": [
        "#clear\n",
        "y=['apple','banana','orange','grapes','banana']\n",
        "y.clear()\n",
        "print(y)\n"
      ],
      "metadata": {
        "colab": {
          "base_uri": "https://localhost:8080/"
        },
        "id": "KQHja-hQ3N0y",
        "outputId": "bf471438-d031-4cfb-fa60-7b94fbf52cc6"
      },
      "execution_count": 4,
      "outputs": [
        {
          "output_type": "stream",
          "name": "stdout",
          "text": [
            "[]\n"
          ]
        }
      ]
    },
    {
      "cell_type": "code",
      "source": [
        "#copy\n",
        "y=['apple','banana','orange','grapes','banana']\n",
        "y.copy()\n",
        "print(y)\n",
        "\n"
      ],
      "metadata": {
        "colab": {
          "base_uri": "https://localhost:8080/"
        },
        "id": "qLXZ5I9V3ffx",
        "outputId": "e158e1c3-9147-4340-d6a4-6b1ae77c8a3f"
      },
      "execution_count": 5,
      "outputs": [
        {
          "output_type": "stream",
          "name": "stdout",
          "text": [
            "['apple', 'banana', 'orange', 'grapes', 'banana']\n"
          ]
        }
      ]
    },
    {
      "cell_type": "code",
      "source": [
        "#count\n",
        "y=['apple','banana','orange','grapes','banana']\n",
        "x=y.count(\"banana\")\n",
        "print(x)\n"
      ],
      "metadata": {
        "colab": {
          "base_uri": "https://localhost:8080/"
        },
        "id": "ulHVTwEQ3pFQ",
        "outputId": "7e9fae63-104b-4a3d-8a69-1d98889dcb94"
      },
      "execution_count": 6,
      "outputs": [
        {
          "output_type": "stream",
          "name": "stdout",
          "text": [
            "2\n"
          ]
        }
      ]
    },
    {
      "cell_type": "code",
      "source": [
        "#extend\n",
        "y=['apple','banana','orange','grapes','banana']\n",
        "cherry=['sos','even','down']\n",
        "y.extend(cherry)\n",
        "print(y)\n"
      ],
      "metadata": {
        "colab": {
          "base_uri": "https://localhost:8080/"
        },
        "id": "c8jY84RI3xyS",
        "outputId": "0e66a7ab-70f5-4db3-a902-b032de4cf113"
      },
      "execution_count": 7,
      "outputs": [
        {
          "output_type": "stream",
          "name": "stdout",
          "text": [
            "['apple', 'banana', 'orange', 'grapes', 'banana', 'sos', 'even', 'down']\n"
          ]
        }
      ]
    },
    {
      "cell_type": "code",
      "source": [
        "#index\n",
        "y=['apple','banana','orange','grapes','banana']\n",
        "y.index(\"banana\")\n",
        "print(y)\n"
      ],
      "metadata": {
        "colab": {
          "base_uri": "https://localhost:8080/"
        },
        "id": "XkJ0faYn4An7",
        "outputId": "bf860d16-93ed-472d-a5f2-df6b25db26db"
      },
      "execution_count": 8,
      "outputs": [
        {
          "output_type": "stream",
          "name": "stdout",
          "text": [
            "['apple', 'banana', 'orange', 'grapes', 'banana']\n"
          ]
        }
      ]
    },
    {
      "cell_type": "code",
      "source": [
        "#pop\n",
        "\n",
        "y=['apple','banana','orange','grapes','banana']\n",
        "y.pop(2)\n",
        "print(y)\n",
        "\n"
      ],
      "metadata": {
        "colab": {
          "base_uri": "https://localhost:8080/"
        },
        "id": "NX0CItGq4Kvv",
        "outputId": "ae92273d-a61f-4684-c224-14df9deadb36"
      },
      "execution_count": 9,
      "outputs": [
        {
          "output_type": "stream",
          "name": "stdout",
          "text": [
            "['apple', 'banana', 'grapes', 'banana']\n"
          ]
        }
      ]
    },
    {
      "cell_type": "code",
      "source": [
        "#pop\n",
        "\n",
        "y=['apple','banana','orange','grapes','banana']\n",
        "y.pop(2)\n",
        "print(y)\n",
        "\n"
      ],
      "metadata": {
        "colab": {
          "base_uri": "https://localhost:8080/"
        },
        "id": "Tpbi5qaj4Rf5",
        "outputId": "6d3e3364-7b3c-4043-cc80-201cee25bd98"
      },
      "execution_count": 10,
      "outputs": [
        {
          "output_type": "stream",
          "name": "stdout",
          "text": [
            "['apple', 'banana', 'grapes', 'banana']\n"
          ]
        }
      ]
    },
    {
      "cell_type": "code",
      "source": [
        "#pop\n",
        "\n",
        "y=['apple','banana','orange','grapes','banana']\n",
        "y.pop(2)\n",
        "print(y)\n",
        "\n"
      ],
      "metadata": {
        "colab": {
          "base_uri": "https://localhost:8080/"
        },
        "id": "o9z8pJOn4c7k",
        "outputId": "8c61c695-1dfe-498b-ce83-cdc0630ca996"
      },
      "execution_count": 12,
      "outputs": [
        {
          "output_type": "stream",
          "name": "stdout",
          "text": [
            "['apple', 'banana', 'grapes', 'banana']\n"
          ]
        }
      ]
    },
    {
      "cell_type": "code",
      "source": [
        "#dict\n",
        "x={\"name\":\"radha\",\"age\":19}\n",
        "print(x.keys())\n",
        "print(x.values())\n",
        "print(x.items())\n",
        "print(x.pop(\"name\"))\n",
        "print(x)\n",
        "print(type(x))\n"
      ],
      "metadata": {
        "colab": {
          "base_uri": "https://localhost:8080/"
        },
        "id": "tlQ5OTxw4oUR",
        "outputId": "e709baff-634b-4628-bfdd-9ecf588c8e4d"
      },
      "execution_count": 13,
      "outputs": [
        {
          "output_type": "stream",
          "name": "stdout",
          "text": [
            "dict_keys(['name', 'age'])\n",
            "dict_values(['radha', 19])\n",
            "dict_items([('name', 'radha'), ('age', 19)])\n",
            "radha\n",
            "{'age': 19}\n",
            "<class 'dict'>\n"
          ]
        }
      ]
    },
    {
      "cell_type": "code",
      "source": [
        "#clear\n",
        "x={\"name\":\"radha\",\"age\":19}\n",
        "x.clear()\n",
        "print(x)\n"
      ],
      "metadata": {
        "colab": {
          "base_uri": "https://localhost:8080/"
        },
        "id": "fyC89Fe-4rsN",
        "outputId": "b16a8383-c135-415d-f54c-d024f734926e"
      },
      "execution_count": 14,
      "outputs": [
        {
          "output_type": "stream",
          "name": "stdout",
          "text": [
            "{}\n"
          ]
        }
      ]
    },
    {
      "cell_type": "code",
      "source": [
        "#copy\n",
        "x={\"name\":\"radha\",\"age\":19}\n",
        "x.copy()\n",
        "print(x)\n"
      ],
      "metadata": {
        "colab": {
          "base_uri": "https://localhost:8080/"
        },
        "id": "OP9f1ASd5zcz",
        "outputId": "e4c6b2d7-bf27-49c7-d9ec-d46ffa474a39"
      },
      "execution_count": 15,
      "outputs": [
        {
          "output_type": "stream",
          "name": "stdout",
          "text": [
            "{'name': 'radha', 'age': 19}\n"
          ]
        }
      ]
    },
    {
      "cell_type": "code",
      "source": [
        "#get\n",
        "x={\"name\":\"radha\",\"age\":19}\n",
        "y=x.get(\"name\")\n",
        "print(y)\n",
        "\n"
      ],
      "metadata": {
        "colab": {
          "base_uri": "https://localhost:8080/"
        },
        "id": "SKz0LdPz56Dg",
        "outputId": "5510868c-4acc-4554-dbc6-ae4d721b17a8"
      },
      "execution_count": 16,
      "outputs": [
        {
          "output_type": "stream",
          "name": "stdout",
          "text": [
            "radha\n"
          ]
        }
      ]
    },
    {
      "cell_type": "code",
      "source": [
        "#pop\n",
        "x={\"name\":\"radha\",\"age\":19}\n",
        "x.pop(\"age\")\n",
        "print(x)\n"
      ],
      "metadata": {
        "colab": {
          "base_uri": "https://localhost:8080/"
        },
        "id": "F65HMTXA6Jf_",
        "outputId": "f0cdcd2f-9935-4d06-9d9c-fb1a7e16b382"
      },
      "execution_count": 18,
      "outputs": [
        {
          "output_type": "stream",
          "name": "stdout",
          "text": [
            "{'name': 'radha'}\n"
          ]
        }
      ]
    },
    {
      "cell_type": "code",
      "source": [
        "#popitem\n",
        "x={\"name\":\"radha\",\"age\":19,\"course\":\"ADS\"}\n",
        "x.popitem()\n",
        "print(x)"
      ],
      "metadata": {
        "colab": {
          "base_uri": "https://localhost:8080/"
        },
        "id": "vC4NF2FD6Rmf",
        "outputId": "62b3d94d-dc4c-4bd2-fed3-9563b711b4e7"
      },
      "execution_count": 19,
      "outputs": [
        {
          "output_type": "stream",
          "name": "stdout",
          "text": [
            "{'name': 'radha', 'age': 19}\n"
          ]
        }
      ]
    },
    {
      "cell_type": "code",
      "source": [
        "#update\n",
        "x={\"name\":\"radha\",\"age\":19,\"course\":\"ADS\"}\n",
        "x.update({\"course\":\"ADS\"})\n",
        "print(x)"
      ],
      "metadata": {
        "colab": {
          "base_uri": "https://localhost:8080/"
        },
        "id": "gOS3sGA76YSi",
        "outputId": "17067a7c-7e4a-41a6-eeb0-e5ac8179683c"
      },
      "execution_count": 20,
      "outputs": [
        {
          "output_type": "stream",
          "name": "stdout",
          "text": [
            "{'name': 'radha', 'age': 19, 'course': 'ADS'}\n"
          ]
        }
      ]
    },
    {
      "cell_type": "code",
      "source": [
        "#tuple\n",
        "#count\n",
        "a=(1,2,3,4,5,6,7,4)\n",
        "x=a.count(2)\n",
        "print(x)\n"
      ],
      "metadata": {
        "colab": {
          "base_uri": "https://localhost:8080/"
        },
        "id": "2aIvAjyq6fFt",
        "outputId": "19f9d627-d94d-45dd-e1ca-e6522840f883"
      },
      "execution_count": 21,
      "outputs": [
        {
          "output_type": "stream",
          "name": "stdout",
          "text": [
            "1\n"
          ]
        }
      ]
    },
    {
      "cell_type": "code",
      "source": [
        "#index\n",
        "a=(1,2,3,4,5,6,7,4)\n",
        "x=a.index(5)\n",
        "print(x)"
      ],
      "metadata": {
        "colab": {
          "base_uri": "https://localhost:8080/"
        },
        "id": "0ulh06MK6phr",
        "outputId": "5bdaaed7-5432-4bf2-87ec-7f93693ef138"
      },
      "execution_count": 22,
      "outputs": [
        {
          "output_type": "stream",
          "name": "stdout",
          "text": [
            "4\n"
          ]
        }
      ]
    }
  ]
}