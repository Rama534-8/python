{
  "nbformat": 4,
  "nbformat_minor": 0,
  "metadata": {
    "colab": {
      "provenance": [],
      "authorship_tag": "ABX9TyNpkCQXaUuWNLKXYu0jLAKU",
      "include_colab_link": true
    },
    "kernelspec": {
      "name": "python3",
      "display_name": "Python 3"
    },
    "language_info": {
      "name": "python"
    }
  },
  "cells": [
    {
      "cell_type": "markdown",
      "metadata": {
        "id": "view-in-github",
        "colab_type": "text"
      },
      "source": [
        "<a href=\"https://colab.research.google.com/github/Rama534-8/python/blob/main/def.ipynb\" target=\"_parent\"><img src=\"https://colab.research.google.com/assets/colab-badge.svg\" alt=\"Open In Colab\"/></a>"
      ]
    },
    {
      "cell_type": "code",
      "execution_count": null,
      "metadata": {
        "colab": {
          "base_uri": "https://localhost:8080/"
        },
        "id": "ETRaKADONN5N",
        "outputId": "a0a91304-11e8-492b-8f68-ca54d244e8f6"
      },
      "outputs": [
        {
          "output_type": "stream",
          "name": "stdout",
          "text": [
            "True\n"
          ]
        }
      ],
      "source": [
        "def is_armstrong(n):\n",
        "    return n==sum (int(digit)\n",
        " ** len(str(n)) for digit in str(n))\n",
        "\n",
        "print (is_armstrong (371)) #"
      ]
    },
    {
      "cell_type": "code",
      "source": [
        "a=9\n",
        "b=8\n",
        "c=7\n",
        "d=6\n",
        "if (a>b and a>c and a>d):\n",
        "   print(\"greater\")\n",
        "elif(b>c and b>a and b>d):\n",
        "   print(\"avg\")\n",
        "elif(c>a and c>b and c>d):\n",
        "   print(\"better\")\n",
        "else:\n",
        "   print(\"small\")"
      ],
      "metadata": {
        "colab": {
          "base_uri": "https://localhost:8080/"
        },
        "id": "ptxBH_R824tq",
        "outputId": "da38f2c4-2446-40d5-ad40-26448ca2ae02"
      },
      "execution_count": null,
      "outputs": [
        {
          "output_type": "stream",
          "name": "stdout",
          "text": [
            "greater\n"
          ]
        }
      ]
    },
    {
      "cell_type": "code",
      "source": [
        "import math\n",
        "print (math.log(100))"
      ],
      "metadata": {
        "colab": {
          "base_uri": "https://localhost:8080/"
        },
        "id": "AsgyLn5BOBFg",
        "outputId": "351542c3-6f8d-48b8-e546-4d67550f9d90"
      },
      "execution_count": null,
      "outputs": [
        {
          "output_type": "stream",
          "name": "stdout",
          "text": [
            "4.605170185988092\n"
          ]
        }
      ]
    }
  ]
}